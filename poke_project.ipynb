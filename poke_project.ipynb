{
 "cells": [
  {
   "cell_type": "code",
   "execution_count": 1,
   "metadata": {},
   "outputs": [],
   "source": [
    "import requests \n",
    "import sys \n",
    "import json as j \n",
    "import pandas as pd"
   ]
  },
  {
   "cell_type": "code",
   "execution_count": 2,
   "metadata": {},
   "outputs": [],
   "source": [
    "class ResponsePokemonList:\n",
    "    def __init__(self, name):\n",
    "        self.name = name"
   ]
  },
  {
   "cell_type": "code",
   "execution_count": 3,
   "metadata": {},
   "outputs": [],
   "source": [
    "class Pokemon: \n",
    "    def __init__(self, id, name, types, ability, base_experience, versions, height, move):\n",
    "        self.id = id\n",
    "        self.name = name\n",
    "        self.types = types\n",
    "        self.ability = ability\n",
    "        self.base_experience = base_experience\n",
    "        self.versions = versions\n",
    "        self.height = height\n",
    "        self.move = move\n",
    "\n",
    "class TypePokemon: \n",
    "    def __init__(self, typeName):\n",
    "        self.typeName = typeName\n",
    "\n",
    "class AbilityPokemon: \n",
    "    def __init__(self, abilityName):\n",
    "        self.abilityName = abilityName\n",
    "    \n",
    "class GameVersion: \n",
    "    def __init__(self, versionName):\n",
    "        self.versionName = versionName\n",
    "\n",
    "class Move: \n",
    "    def __init__(self, move, moveDetails): \n",
    "        self.move = move\n",
    "        self.moveDetail = moveDetails\n",
    "\n",
    "class MoveDetail: \n",
    "    def __init__(self, learnMethod, gameVersion):\n",
    "        self.learnMethod = learnMethod\n",
    "        self.gameVersion = gameVersion"
   ]
  },
  {
   "cell_type": "code",
   "execution_count": 4,
   "metadata": {},
   "outputs": [],
   "source": [
    "def getPokemonNameList():\n",
    "    list_pokemonResponse = []\n",
    "    list_pokemonName = []\n",
    "\n",
    "    api_pokeNames = 'https://pokeapi.co/api/v2/pokemon/?offset=0&limit='+str(sys.maxsize)\n",
    "\n",
    "    try:\n",
    "        res = requests.get(api_pokeNames)\n",
    "        list_pokemonResponse = handleResponse(res)\n",
    "    except(requests.exceptions.RequestException, Exception) as err:\n",
    "        print(\"Request error! Error:\",err)\n",
    "        raise SystemExit(err)\n",
    "\n",
    "    try:\n",
    "        for i in list_pokemonResponse['results']:\n",
    "            name_pokemon = ResponsePokemonList(i['name'])\n",
    "            list_pokemonName.append(name_pokemon)\n",
    "            #print(name_pokemon.name)\n",
    "    except(Exception):\n",
    "        print(\"Err\")\n",
    "\n",
    "    return list_pokemonName"
   ]
  },
  {
   "cell_type": "code",
   "execution_count": 5,
   "metadata": {},
   "outputs": [],
   "source": [
    "def getPokemonAttributes(name):\n",
    "\n",
    "    api_pokeAttributes = 'https://pokeapi.co/api/v2/pokemon/'+name\n",
    "\n",
    "    try:\n",
    "        res = requests.get(api_pokeAttributes)\n",
    "        attributes_pokemonResponse = handleResponse(res)\n",
    "    except(requests.exceptions.RequestException, Exception) as err:\n",
    "        print(\"Request error! Error:\",err)\n",
    "        raise SystemError(err)\n",
    "    \n",
    "    try:\n",
    "        types = []\n",
    "        abilities = []\n",
    "        gameVersions = []\n",
    "        moves = []\n",
    "\n",
    "        for i in attributes_pokemonResponse['types']:\n",
    "            types.append(TypePokemon(i['type']['name']))\n",
    "\n",
    "        for i in attributes_pokemonResponse['abilities']:\n",
    "            abilities.append(AbilityPokemon(i['ability']['name']))\n",
    "\n",
    "        for i in attributes_pokemonResponse['game_indices']: \n",
    "            gameVersions.append(GameVersion(i['version']['name']))\n",
    "        \n",
    "        for i in attributes_pokemonResponse['moves']: \n",
    "            detail = []\n",
    "            for x in i['version_group_details']: \n",
    "                detail.append(MoveDetail(x['move_learn_method']['name'], x['version_group']['name']))\n",
    "            moves.append(Move(i['move']['name'],detail))\n",
    "\n",
    "        return Pokemon(attributes_pokemonResponse['id'], \n",
    "                        attributes_pokemonResponse['name'],\n",
    "                        types, \n",
    "                        abilities, \n",
    "                        attributes_pokemonResponse['base_experience'], \n",
    "                        gameVersions, \n",
    "                        attributes_pokemonResponse['height'], \n",
    "                        moves)\n",
    "    except(Exception):\n",
    "        print(\"Err\")"
   ]
  },
  {
   "cell_type": "code",
   "execution_count": 6,
   "metadata": {},
   "outputs": [],
   "source": [
    "def handleResponse(res):\n",
    "    if res == None:\n",
    "        raise Exception(\"Response is empty!\") \n",
    "    json_response = j.loads(res.text)   \n",
    "    return json_response   "
   ]
  },
  {
   "cell_type": "code",
   "execution_count": 8,
   "metadata": {},
   "outputs": [
    {
     "ename": "",
     "evalue": "",
     "output_type": "error",
     "traceback": [
      "\u001b[1;31mFailed to interrupt the Kernel. \n",
      "Nenhum depurador disponível, não é possível enviar 'disconnect'. \n",
      "View Jupyter <a href='command:jupyter.viewOutput'>log</a> for further details."
     ]
    }
   ],
   "source": [
    "pokeName_list = getPokemonNameList()\n",
    "\n",
    "pokedex = []\n",
    "\n",
    "for pokeName in pokeName_list: \n",
    "    pokedex.append(getPokemonAttributes(pokeName.name))\n",
    "\n",
    "    "
   ]
  }
 ],
 "metadata": {
  "interpreter": {
   "hash": "f48d23168ba52c5ed2c5920cc0dab07f2570e238fc6aa8de81ff4f487a93082b"
  },
  "kernelspec": {
   "display_name": "Python 3.10.4 64-bit",
   "language": "python",
   "name": "python3"
  },
  "language_info": {
   "codemirror_mode": {
    "name": "ipython",
    "version": 3
   },
   "file_extension": ".py",
   "mimetype": "text/x-python",
   "name": "python",
   "nbconvert_exporter": "python",
   "pygments_lexer": "ipython3",
   "version": "3.10.4"
  },
  "orig_nbformat": 4
 },
 "nbformat": 4,
 "nbformat_minor": 2
}
